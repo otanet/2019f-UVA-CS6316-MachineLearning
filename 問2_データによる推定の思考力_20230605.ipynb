{
  "nbformat": 4,
  "nbformat_minor": 0,
  "metadata": {
    "colab": {
      "provenance": [],
      "authorship_tag": "ABX9TyOcyjn2fjZ0s+dEyooABaMm",
      "include_colab_link": true
    },
    "kernelspec": {
      "name": "python3",
      "display_name": "Python 3"
    },
    "language_info": {
      "name": "python"
    }
  },
  "cells": [
    {
      "cell_type": "markdown",
      "metadata": {
        "id": "view-in-github",
        "colab_type": "text"
      },
      "source": [
        "<a href=\"https://colab.research.google.com/github/otanet/2019f-UVA-CS6316-MachineLearning/blob/master/%E5%95%8F2_%E3%83%87%E3%83%BC%E3%82%BF%E3%81%AB%E3%82%88%E3%82%8B%E6%8E%A8%E5%AE%9A%E3%81%AE%E6%80%9D%E8%80%83%E5%8A%9B_20230605.ipynb\" target=\"_parent\"><img src=\"https://colab.research.google.com/assets/colab-badge.svg\" alt=\"Open In Colab\"/></a>"
      ]
    },
    {
      "cell_type": "markdown",
      "source": [
        "## ラクスル様 ワークサンプル課題と回答 2023年6月12日 太田博三\n",
        "### 問2: データによる推定の思考力を見る課題\n",
        "### ある企業は次の期間に次のエリアで⾃社サービスのCMを放映しました。2021/01/12 〜 2021/02/21関東・近畿・中京2021/05/10 〜 2021/06/13の関東におけるCM効果を推定する⽅法を⽂章で説明してください。なお、このサービスの⽇別エリア別ウェブサイトアクセス数データ（session_date_region.csv）を参考にしてもかまいません（プログラムなどを作成する必要はありません）。※関東は東京都、神奈川県、埼⽟県、千葉県、茨城県、栃⽊県、群⾺県を、近畿は⼤阪府、兵庫県、京都府、滋賀県、奈良県、和歌⼭県を、中京は愛知県、岐⾩県、三重県を指します。"
      ],
      "metadata": {
        "id": "lR321g7Pj4Uj"
      }
    },
    {
      "cell_type": "markdown",
      "source": [
        "### CMの効果の推定には、TVCM放送時の露出度を算出し、放送後の結果としてウェブサイトのアクセス数データとを結びつけて効果測定を行います。\n",
        "### 前者は、放送時間帯や頻度のファクトデータや視聴率データを結びつけて、ヒューリスティックに露出度を決めます。\n",
        "\n",
        "### 後者は、インターネット側の日別、地域別のセッションデータ(session_date_region.csv)を用います。\n",
        "\n",
        "### 前者の一定期間放送されたテレビの視聴率を合計したGRPが用いられ係数の働きをします。母数は必ずしも1人ではない設定です。\n",
        "\n",
        "### 一方、後者のインターネットのセッションデータも、ユニークユーザー単位で、日別、都道府県単位でのエリア別となります。\n",
        "\n",
        "### 後者のセッション数を前者のCM露出度で割ったものになります。\n",
        "### 次のセルのように計算します。"
      ],
      "metadata": {
        "id": "qTmY72y8mCq7"
      }
    },
    {
      "cell_type": "code",
      "source": [
        "import pandas as pd\n",
        "\n",
        "# データの読み込み\n",
        "data = pd.read_csv('/content/session_by_date_region.csv')\n",
        "\n",
        "# 関東地域のデータのみ抽出\n",
        "kanto_data = data[data['REGION_NAME'].isin(['Chiba', 'Gunma', 'Ibaraki', 'Kanagawa', 'Saitama', 'Tochigi', 'Tokyo'])]\n",
        "\n",
        "# エリアごとのセッション数の集計\n",
        "area_sessions = kanto_data.groupby('REGION_NAME')['SESSION'].sum().reset_index()\n",
        "\n",
        "# CM露出度のデータを作成\n",
        "cm_exposure = pd.DataFrame({\n",
        "    'REGION_NAME': ['Chiba', 'Gunma', 'Ibaraki', 'Kanagawa', 'Saitama', 'Tochigi', 'Tokyo'],\n",
        "    'CM_EXPOSURE': [10, 5, 8, 15, 12, 7, 20]  # 実際のデータに基づいて値を設定する必要があります\n",
        "})\n",
        "\n",
        "# エリアごとのセッション数とCM露出度のデータを統合\n",
        "merged_data = pd.merge(area_sessions, cm_exposure, on='REGION_NAME')\n",
        "\n",
        "# CM効果の推定\n",
        "merged_data['CM_EFFECT'] = merged_data['SESSION'] / merged_data['CM_EXPOSURE']\n",
        "\n",
        "# 結果の表示\n",
        "print(merged_data)\n"
      ],
      "metadata": {
        "colab": {
          "base_uri": "https://localhost:8080/",
          "height": 0
        },
        "id": "JNenp59uDdo4",
        "outputId": "5cfb868f-f5b7-48a7-93fa-22894d4e9ec4"
      },
      "execution_count": 2,
      "outputs": [
        {
          "output_type": "stream",
          "name": "stdout",
          "text": [
            "  REGION_NAME  SESSION  CM_EXPOSURE   CM_EFFECT\n",
            "0       Chiba     1632           10  163.200000\n",
            "1       Gunma      283            5   56.600000\n",
            "2     Ibaraki      416            8   52.000000\n",
            "3    Kanagawa     7180           15  478.666667\n",
            "4     Saitama     1956           12  163.000000\n",
            "5     Tochigi      394            7   56.285714\n",
            "6       Tokyo    18089           20  904.450000\n"
          ]
        }
      ]
    },
    {
      "cell_type": "markdown",
      "source": [
        "### CM露出度はマーケティングリサーチなどの定点的な調査を基に決めるため、大きくならないような合成変数などの指標化も考えられます。\n",
        "### 視聴して購入したという率直な消費者行動を軸に考えております。\n",
        "### 『広告効果の科学』ビデオリサーチ編 日本経済新聞 2009年2月"
      ],
      "metadata": {
        "id": "K_rRshnAy82B"
      }
    },
    {
      "cell_type": "code",
      "source": [],
      "metadata": {
        "id": "wwxzNiy2z86N"
      },
      "execution_count": null,
      "outputs": []
    }
  ]
}